{
 "cells": [
  {
   "cell_type": "code",
   "execution_count": 4,
   "id": "6473ff8c",
   "metadata": {},
   "outputs": [
    {
     "name": "stdout",
     "output_type": "stream",
     "text": [
      "Gathering match links.\n",
      "Scraping matches.\n"
     ]
    },
    {
     "name": "stderr",
     "output_type": "stream",
     "text": [
      "100%|██████████████████████████████████████████████████████████████████████████████| 978/978 [1:56:06<00:00,  7.12s/it]\n"
     ]
    }
   ],
   "source": [
    "import numpy as np\n",
    "import pandas as pd\n",
    "import ScraperFC as sfc\n",
    "import traceback\n",
    "\n",
    "# Initialize the FBRef scraper\n",
    "scraper = sfc.FBRef()\n",
    "try:\n",
    "    # Scrape the table\n",
    "    lg_matches = scraper.scrape_matches(year=2022, league='MLS', save=False)\n",
    "except:\n",
    "    # Catch and print any exceptions. This allows us to still close the\n",
    "    # scraper below, even if an exception occurs.\n",
    "    traceback.print_exc()\n",
    "finally:\n",
    "    # It's important to close the scraper when you're done with it. Otherwise,\n",
    "    # you'll have a bunch of webdrivers open and running in the background.\n",
    "    scraper.close()"
   ]
  },
  {
   "cell_type": "code",
   "execution_count": null,
   "id": "8ee61cdb",
   "metadata": {},
   "outputs": [],
   "source": [
    "lg_matches['Home Player Stats'].values[0]"
   ]
  },
  {
   "cell_type": "code",
   "execution_count": null,
   "id": "8f022ed0",
   "metadata": {},
   "outputs": [],
   "source": []
  },
  {
   "cell_type": "code",
   "execution_count": null,
   "id": "55e715d8",
   "metadata": {},
   "outputs": [],
   "source": []
  },
  {
   "cell_type": "code",
   "execution_count": null,
   "id": "e1862f75",
   "metadata": {},
   "outputs": [],
   "source": []
  }
 ],
 "metadata": {
  "kernelspec": {
   "display_name": "Python 3 (ipykernel)",
   "language": "python",
   "name": "python3"
  },
  "language_info": {
   "codemirror_mode": {
    "name": "ipython",
    "version": 3
   },
   "file_extension": ".py",
   "mimetype": "text/x-python",
   "name": "python",
   "nbconvert_exporter": "python",
   "pygments_lexer": "ipython3",
   "version": "3.9.7"
  }
 },
 "nbformat": 4,
 "nbformat_minor": 5
}
