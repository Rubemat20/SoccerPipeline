{
 "cells": [
  {
   "cell_type": "code",
   "execution_count": 2,
   "id": "91575ca1",
   "metadata": {},
   "outputs": [],
   "source": [
    "import numpy as np\n",
    "import pandas as pd\n",
    "import ScraperFC as sfc\n",
    "import traceback"
   ]
  },
  {
   "cell_type": "code",
   "execution_count": 3,
   "id": "bb97ac6c",
   "metadata": {},
   "outputs": [],
   "source": [
    "team = \"Seattle-Sounders\"\n",
    "player = \"Jordan Morris\"\n",
    "games = pd.DataFrame()\n",
    "x = 5"
   ]
  },
  {
   "cell_type": "code",
   "execution_count": 4,
   "id": "ec96fedc",
   "metadata": {},
   "outputs": [
    {
     "name": "stdout",
     "output_type": "stream",
     "text": [
      "Gathering match links.\n",
      "https://fbref.com/en/matches/f7510a39/Seattle-Sounders-FC-Nashville-SC-February-27-2022-Major-League-Soccer\n",
      "https://fbref.com/en/matches/de0fce95/Real-Salt-Lake-Seattle-Sounders-FC-March-5-2022-Major-League-Soccer\n",
      "https://fbref.com/en/matches/9c8be737/Seattle-Sounders-FC-LA-Galaxy-March-12-2022-Major-League-Soccer\n",
      "https://fbref.com/en/matches/26a49f8b/Austin-FC-Seattle-Sounders-FC-March-20-2022-Major-League-Soccer\n",
      "https://fbref.com/en/matches/7e682a9b/Minnesota-United-Seattle-Sounders-FC-April-2-2022-Major-League-Soccer\n",
      "https://fbref.com/en/matches/a4eb6cbd/Seattle-Sounders-FC-Inter-Miami-April-16-2022-Major-League-Soccer\n",
      "https://fbref.com/en/matches/ee400abd/San-Jose-Earthquakes-Seattle-Sounders-FC-April-23-2022-Major-League-Soccer\n",
      "https://fbref.com/en/matches/a1f783bd/FC-Dallas-Seattle-Sounders-FC-May-7-2022-Major-League-Soccer\n",
      "https://fbref.com/en/matches/bf3a791c/Seattle-Sounders-FC-Minnesota-United-May-15-2022-Major-League-Soccer\n",
      "https://fbref.com/en/matches/5cd331e1/Houston-Dynamo-Seattle-Sounders-FC-May-18-2022-Major-League-Soccer\n",
      "https://fbref.com/en/matches/0664caa2/Colorado-Rapids-Seattle-Sounders-FC-May-22-2022-Major-League-Soccer\n",
      "https://fbref.com/en/matches/0714afc5/Seattle-Sounders-FC-Charlotte-FC-May-29-2022-Major-League-Soccer\n",
      "https://fbref.com/en/matches/9fb972ad/Seattle-Sounders-FC-Vancouver-Whitecaps-FC-June-14-2022-Major-League-Soccer\n",
      "https://fbref.com/en/matches/2c38ec1e/Seattle-Sounders-FC-Los-Angeles-FC-June-18-2022-Major-League-Soccer\n",
      "https://fbref.com/en/matches/bca40ded/Seattle-Sounders-FC-Sporting-KC-June-25-2022-Major-League-Soccer\n",
      "https://fbref.com/en/matches/d34c4712/Seattle-Sounders-FC-CF-Montreal-June-29-2022-Major-League-Soccer\n",
      "https://fbref.com/en/matches/e24c1b23/Toronto-FC-Seattle-Sounders-FC-July-2-2022-Major-League-Soccer\n",
      "https://fbref.com/en/matches/342d7113/Seattle-Sounders-FC-Portland-Timbers-July-9-2022-Major-League-Soccer\n",
      "https://fbref.com/en/matches/d643011a/Nashville-SC-Seattle-Sounders-FC-July-13-2022-Major-League-Soccer\n",
      "https://fbref.com/en/matches/722f9109/Chicago-Fire-Seattle-Sounders-FC-July-16-2022-Major-League-Soccer\n",
      "https://fbref.com/en/matches/cade6b53/Seattle-Sounders-FC-Colorado-Rapids-July-23-2022-Major-League-Soccer\n",
      "https://fbref.com/en/matches/1cce6449/Los-Angeles-FC-Seattle-Sounders-FC-July-29-2022-Major-League-Soccer\n",
      "https://fbref.com/en/matches/ccd7d017/Seattle-Sounders-FC-FC-Dallas-August-2-2022-Major-League-Soccer\n",
      "https://fbref.com/en/matches/0b7d2ebf/Atlanta-United-Seattle-Sounders-FC-August-6-2022-Major-League-Soccer\n",
      "https://fbref.com/en/matches/4072fce6/Seattle-Sounders-FC-Real-Salt-Lake-August-14-2022-Major-League-Soccer\n",
      "https://fbref.com/en/matches/6413270d/LA-Galaxy-Seattle-Sounders-FC-August-19-2022-Major-League-Soccer\n",
      "https://fbref.com/en/matches/cdbf59e3/Portland-Timbers-Seattle-Sounders-FC-August-26-2022-Major-League-Soccer\n",
      "https://fbref.com/en/matches/2e9f98f4/Orlando-City-Seattle-Sounders-FC-August-31-2022-Major-League-Soccer\n",
      "https://fbref.com/en/matches/f1634f2e/Seattle-Sounders-FC-Houston-Dynamo-September-4-2022-Major-League-Soccer\n",
      "https://fbref.com/en/matches/638373a3/Seattle-Sounders-FC-Austin-FC-September-10-2022-Major-League-Soccer\n",
      "https://fbref.com/en/matches/de74aab9/Vancouver-Whitecaps-FC-Seattle-Sounders-FC-September-17-2022-Major-League-Soccer\n",
      "https://fbref.com/en/matches/705e19bf/Seattle-Sounders-FC-FC-Cincinnati-September-27-2022-Major-League-Soccer\n",
      "https://fbref.com/en/matches/d764443c/Sporting-KC-Seattle-Sounders-FC-October-2-2022-Major-League-Soccer\n",
      "https://fbref.com/en/matches/cdc781dd/Seattle-Sounders-FC-San-Jose-Earthquakes-October-9-2022-Major-League-Soccer\n",
      "https://fbref.com/en/matches/f7510a39/Seattle-Sounders-FC-Nashville-SC-February-27-2022-Major-League-Soccer\n",
      "https://fbref.com/en/matches/de0fce95/Real-Salt-Lake-Seattle-Sounders-FC-March-5-2022-Major-League-Soccer\n",
      "https://fbref.com/en/matches/9c8be737/Seattle-Sounders-FC-LA-Galaxy-March-12-2022-Major-League-Soccer\n",
      "https://fbref.com/en/matches/26a49f8b/Austin-FC-Seattle-Sounders-FC-March-20-2022-Major-League-Soccer\n",
      "https://fbref.com/en/matches/7e682a9b/Minnesota-United-Seattle-Sounders-FC-April-2-2022-Major-League-Soccer\n",
      "https://fbref.com/en/matches/a4eb6cbd/Seattle-Sounders-FC-Inter-Miami-April-16-2022-Major-League-Soccer\n",
      "https://fbref.com/en/matches/ee400abd/San-Jose-Earthquakes-Seattle-Sounders-FC-April-23-2022-Major-League-Soccer\n",
      "https://fbref.com/en/matches/a1f783bd/FC-Dallas-Seattle-Sounders-FC-May-7-2022-Major-League-Soccer\n",
      "https://fbref.com/en/matches/bf3a791c/Seattle-Sounders-FC-Minnesota-United-May-15-2022-Major-League-Soccer\n",
      "https://fbref.com/en/matches/5cd331e1/Houston-Dynamo-Seattle-Sounders-FC-May-18-2022-Major-League-Soccer\n",
      "https://fbref.com/en/matches/0664caa2/Colorado-Rapids-Seattle-Sounders-FC-May-22-2022-Major-League-Soccer\n",
      "https://fbref.com/en/matches/0714afc5/Seattle-Sounders-FC-Charlotte-FC-May-29-2022-Major-League-Soccer\n",
      "https://fbref.com/en/matches/9fb972ad/Seattle-Sounders-FC-Vancouver-Whitecaps-FC-June-14-2022-Major-League-Soccer\n",
      "https://fbref.com/en/matches/2c38ec1e/Seattle-Sounders-FC-Los-Angeles-FC-June-18-2022-Major-League-Soccer\n",
      "https://fbref.com/en/matches/bca40ded/Seattle-Sounders-FC-Sporting-KC-June-25-2022-Major-League-Soccer\n",
      "https://fbref.com/en/matches/d34c4712/Seattle-Sounders-FC-CF-Montreal-June-29-2022-Major-League-Soccer\n",
      "https://fbref.com/en/matches/e24c1b23/Toronto-FC-Seattle-Sounders-FC-July-2-2022-Major-League-Soccer\n",
      "https://fbref.com/en/matches/342d7113/Seattle-Sounders-FC-Portland-Timbers-July-9-2022-Major-League-Soccer\n",
      "https://fbref.com/en/matches/d643011a/Nashville-SC-Seattle-Sounders-FC-July-13-2022-Major-League-Soccer\n",
      "https://fbref.com/en/matches/722f9109/Chicago-Fire-Seattle-Sounders-FC-July-16-2022-Major-League-Soccer\n",
      "https://fbref.com/en/matches/cade6b53/Seattle-Sounders-FC-Colorado-Rapids-July-23-2022-Major-League-Soccer\n",
      "https://fbref.com/en/matches/1cce6449/Los-Angeles-FC-Seattle-Sounders-FC-July-29-2022-Major-League-Soccer\n",
      "https://fbref.com/en/matches/ccd7d017/Seattle-Sounders-FC-FC-Dallas-August-2-2022-Major-League-Soccer\n",
      "https://fbref.com/en/matches/0b7d2ebf/Atlanta-United-Seattle-Sounders-FC-August-6-2022-Major-League-Soccer\n",
      "https://fbref.com/en/matches/4072fce6/Seattle-Sounders-FC-Real-Salt-Lake-August-14-2022-Major-League-Soccer\n",
      "https://fbref.com/en/matches/6413270d/LA-Galaxy-Seattle-Sounders-FC-August-19-2022-Major-League-Soccer\n",
      "https://fbref.com/en/matches/cdbf59e3/Portland-Timbers-Seattle-Sounders-FC-August-26-2022-Major-League-Soccer\n",
      "https://fbref.com/en/matches/2e9f98f4/Orlando-City-Seattle-Sounders-FC-August-31-2022-Major-League-Soccer\n",
      "https://fbref.com/en/matches/f1634f2e/Seattle-Sounders-FC-Houston-Dynamo-September-4-2022-Major-League-Soccer\n",
      "https://fbref.com/en/matches/638373a3/Seattle-Sounders-FC-Austin-FC-September-10-2022-Major-League-Soccer\n",
      "https://fbref.com/en/matches/de74aab9/Vancouver-Whitecaps-FC-Seattle-Sounders-FC-September-17-2022-Major-League-Soccer\n",
      "https://fbref.com/en/matches/705e19bf/Seattle-Sounders-FC-FC-Cincinnati-September-27-2022-Major-League-Soccer\n",
      "https://fbref.com/en/matches/d764443c/Sporting-KC-Seattle-Sounders-FC-October-2-2022-Major-League-Soccer\n",
      "https://fbref.com/en/matches/cdc781dd/Seattle-Sounders-FC-San-Jose-Earthquakes-October-9-2022-Major-League-Soccer\n"
     ]
    }
   ],
   "source": [
    "# Initialize the FBRef scraper\n",
    "scraper = sfc.FBRef()\n",
    "try:\n",
    "    # Scrape the table\n",
    "    matches = scraper.get_match_links(2022, \"MLS\")\n",
    "    for a in matches:\n",
    "        if team in a:\n",
    "            print(a)\n",
    "            match = scraper.scrape_match(a)\n",
    "            games.append(match)\n",
    "    #link = matches[x]\n",
    "    #match = scraper.scrape_match(link=link)\n",
    "except:\n",
    "    # Catch and print any exceptions. This allows us to still close the\n",
    "    # scraper below, even if an exception occurs.\n",
    "    traceback.print_exc()\n",
    "finally:\n",
    "    # It's important to close the scraper when you're done with it. Otherwise,\n",
    "    # you'll have a bunch of webdrivers open and running in the background.\n",
    "    scraper.close()"
   ]
  },
  {
   "cell_type": "code",
   "execution_count": null,
   "id": "ea117fa0",
   "metadata": {},
   "outputs": [],
   "source": [
    "for m in games:\n",
    "    if player in match['Home Player Stats'].values[0][0][\"Team Sheet\"]:\n",
    "        team = match['Home Player Stats'].values[0][0]\n",
    "    else:\n",
    "        team = match['Away Player Stats'].values[0][0] "
   ]
  },
  {
   "cell_type": "code",
   "execution_count": null,
   "id": "c2e5cdaf",
   "metadata": {},
   "outputs": [],
   "source": [
    "matches"
   ]
  },
  {
   "cell_type": "code",
   "execution_count": null,
   "id": "30a4da30",
   "metadata": {},
   "outputs": [],
   "source": [
    "match['Home Player Stats'].values[0].keys()"
   ]
  },
  {
   "cell_type": "code",
   "execution_count": null,
   "id": "b1c84851",
   "metadata": {},
   "outputs": [],
   "source": [
    "home = match['Home Player Stats'].values[0][0]\n",
    "away = match['Away Player Stats'].values[0][0]\n",
    "shots = match['Shots']"
   ]
  },
  {
   "cell_type": "code",
   "execution_count": null,
   "id": "4c810e8f",
   "metadata": {},
   "outputs": [],
   "source": [
    "home[\"Passing\"]"
   ]
  },
  {
   "cell_type": "code",
   "execution_count": null,
   "id": "bfffd78f",
   "metadata": {},
   "outputs": [],
   "source": [
    "match['Home Player Stats'].values[0][0].keys()"
   ]
  },
  {
   "cell_type": "code",
   "execution_count": null,
   "id": "ba129e52",
   "metadata": {},
   "outputs": [],
   "source": [
    "match.to_excel(index=False)"
   ]
  },
  {
   "cell_type": "code",
   "execution_count": null,
   "id": "2fc80bd4",
   "metadata": {},
   "outputs": [],
   "source": [
    "# Initialize the Understat scraper\n",
    "scraper = sfc.Understat()\n",
    "try:\n",
    "    # Scrape the table\n",
    "    uMatches = scraper.get_match_links(2022, \"MLS\")\n",
    "except:\n",
    "    # Catch and print any exceptions. This allows us to still close the\n",
    "    # scraper below, even if an exception occurs.\n",
    "    traceback.print_exc()\n",
    "finally:\n",
    "    # It\"s important to close the scraper when you\"re done with it. Otherwise,\n",
    "    # you\"ll have a bunch of webdrivers open and running in the background.\n",
    "    scraper.close()\n"
   ]
  }
 ],
 "metadata": {
  "kernelspec": {
   "display_name": "Python 3 (ipykernel)",
   "language": "python",
   "name": "python3"
  },
  "language_info": {
   "codemirror_mode": {
    "name": "ipython",
    "version": 3
   },
   "file_extension": ".py",
   "mimetype": "text/x-python",
   "name": "python",
   "nbconvert_exporter": "python",
   "pygments_lexer": "ipython3",
   "version": "3.9.7"
  }
 },
 "nbformat": 4,
 "nbformat_minor": 5
}
